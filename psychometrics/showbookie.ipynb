{
 "cells": [
  {
   "cell_type": "code",
   "execution_count": 7,
   "metadata": {
    "collapsed": true,
    "pycharm": {
     "is_executing": false
    }
   },
   "outputs": [],
   "source": [
    "\n"
   ]
  },
  {
   "cell_type": "markdown",
   "source": [
    "Here we are going to display some basic functionality of the pychometrics package.\n",
    "\n",
    "First, lets simulate some data. We are going to have 100 people and 50 items.\n",
    "\n"
   ],
   "metadata": {
    "collapsed": false
   }
  },
  {
   "cell_type": "code",
   "execution_count": 8,
   "outputs": [
    {
     "name": "stdout",
     "text": [
      "rater\n",
      "1    138\n",
      "2    151\n",
      "3    135\n",
      "Name: time, dtype: int64\n",
      "Here are the item parameters\n",
      "    a         b     c\n",
      "0   1  0.441401  None\n",
      "1   1 -1.035885  None\n",
      "2   1 -0.204619  None\n",
      "3   1 -0.872237  None\n",
      "4   1  0.784354  None\n",
      "5   1  0.035849  None\n",
      "6   1  0.029624  None\n",
      "7   1  1.480677  None\n",
      "8   1  0.518500  None\n",
      "9   1  1.127700  None\n",
      "10  1  0.913717  None\n",
      "11  1  0.737153  None\n",
      "12  1  1.022070  None\n",
      "13  1  0.220178  None\n",
      "14  1 -0.378137  None\n",
      "15  1 -0.586206  None\n",
      "16  1  0.058080  None\n",
      "17  1 -0.024982  None\n",
      "18  1  0.447714  None\n",
      "19  1 -0.246391  None\n",
      "20  1  2.865526  None\n",
      "21  1  0.278379  None\n",
      "22  1  0.468242  None\n",
      "23  1 -0.322427  None\n",
      "24  1  2.234657  None\n",
      "25  1  0.067535  None\n",
      "26  1 -0.277549  None\n",
      "27  1  0.790175  None\n",
      "28  1 -1.667511  None\n",
      "29  1  0.198506  None\n",
      "30  1  0.740239  None\n",
      "31  1  1.165761  None\n",
      "32  1 -0.976425  None\n",
      "33  1 -0.140166  None\n",
      "34  1 -0.553470  None\n",
      "35  1 -0.419098  None\n",
      "36  1  0.158775  None\n",
      "37  1  0.056222  None\n",
      "38  1  0.673886  None\n",
      "39  1 -1.062277  None\n",
      "40  1 -0.513269  None\n",
      "41  1  0.295591  None\n",
      "42  1 -0.371110  None\n",
      "43  1  0.242074  None\n",
      "44  1 -0.095898  None\n",
      "45  1  1.728043  None\n",
      "46  1 -1.755280  None\n",
      "47  1  0.342621  None\n",
      "48  1  0.130501  None\n",
      "49  1 -0.340335  None\n",
      "Here is the Responses\n",
      "   0   1   2   3   4   5   6   7   8   9   ...  40  41  42  43  44  45  46  \\\n",
      "0   1   0   1   0   1   1   1   1   1   1  ...   1   0   0   0   1   1   0   \n",
      "1   0   0   0   0   1   0   0   0   0   1  ...   0   0   0   1   1   1   0   \n",
      "2   1   0   0   0   0   1   1   1   0   1  ...   0   1   1   1   0   1   1   \n",
      "3   0   0   0   0   0   1   0   0   1   0  ...   0   0   0   0   1   0   0   \n",
      "4   0   1   0   0   0   1   1   1   0   0  ...   0   0   0   0   0   0   0   \n",
      "\n",
      "   47  48  49  \n",
      "0   0   0   0  \n",
      "1   0   0   0  \n",
      "2   1   0   1  \n",
      "3   0   0   0  \n",
      "4   0   0   0  \n",
      "\n",
      "[5 rows x 50 columns]\n",
      "Here is the Probabilities\n",
      "         0         1         2         3         4         5         6   \\\n",
      "0  0.295831  0.647954  0.444922  0.609785  0.229669  0.386588  0.388065   \n",
      "1  0.681570  0.903635  0.803295  0.888413  0.603016  0.762521  0.763646   \n",
      "2  0.326684  0.680063  0.480709  0.643461  0.256131  0.421244  0.422762   \n",
      "3  0.717817  0.917658  0.829159  0.904417  0.643527  0.792360  0.793383   \n",
      "4  0.681621  0.903656  0.803332  0.888437  0.603072  0.762564  0.763689   \n",
      "\n",
      "         7         8         9   ...        40        41        42        43  \\\n",
      "0  0.129374  0.280027  0.174577  ...  0.521846  0.327081  0.486324  0.338967   \n",
      "1  0.430876  0.664608  0.518666  ...  0.847570  0.712347  0.828283  0.723187   \n",
      "2  0.146478  0.309957  0.196310  ...  0.557605  0.359528  0.522307  0.371942   \n",
      "3  0.473620  0.701941  0.561527  ...  0.868565  0.746394  0.851469  0.756389   \n",
      "4  0.430934  0.664661  0.518725  ...  0.847600  0.712395  0.828317  0.723234   \n",
      "\n",
      "         44        45        46        47        48        49  \n",
      "0  0.418258  0.103970  0.790750  0.316815  0.364397  0.478640  \n",
      "1  0.785548  0.371534  0.950625  0.702614  0.744958  0.823862  \n",
      "2  0.453653  0.118171  0.813583  0.348772  0.398356  0.514624  \n",
      "3  0.813203  0.412659  0.958127  0.737389  0.776357  0.847535  \n",
      "4  0.785588  0.371588  0.950636  0.702664  0.745002  0.823896  \n",
      "\n",
      "[5 rows x 50 columns]\n"
     ],
     "output_type": "stream"
    }
   ],
   "source": [
    "from psychometrics.simulation import simulate_items, simulate_people, item_vectors\n",
    "from psychometrics.CTT import examinee_score\n",
    "from psychometrics.test_info import test_descriptives\n",
    "import pandas as pd\n",
    "\n",
    "items = simulate_items()\n",
    "people = simulate_people(100, {'mean': 0, 'sd': 1})\n",
    "prob_vector, response_vector = item_vectors(items, people)\n",
    "\n",
    "\n",
    "print('Here are the item parameters')\n",
    "print(pd.DataFrame(items))\n",
    "\n",
    "print('Here is the Responses')\n",
    "print(response_vector.head())\n",
    "\n",
    "print('Here is the Probabilities')\n",
    "print(prob_vector.head())"
   ],
   "metadata": {
    "collapsed": false,
    "pycharm": {
     "name": "#%%\n",
     "is_executing": false
    }
   }
  },
  {
   "cell_type": "markdown",
   "source": [
    "Now lets compute some basic Classical Test Theory item Statistics\n",
    "\n",
    "Reliability\n",
    "P-value\n",
    "Point Biserial\n",
    "Reliability without the item"
   ],
   "metadata": {
    "collapsed": false
   }
  },
  {
   "cell_type": "code",
   "execution_count": 9,
   "outputs": [
    {
     "name": "stdout",
     "text": [
      "3.092081723977407\n",
      "item_id\n",
      "1    3.041667\n",
      "2    3.000000\n",
      "3    3.333333\n",
      "4    2.916667\n",
      "5    3.041667\n",
      "6    2.666667\n",
      "Name: latency, dtype: float64\n"
     ],
     "output_type": "stream"
    },
    {
     "traceback": [
      "\u001b[0;31m---------------------------------------------------------------------------\u001b[0m",
      "\u001b[0;31mAttributeError\u001b[0m                            Traceback (most recent call last)",
      "\u001b[0;32m<ipython-input-9-104260063fa8>\u001b[0m in \u001b[0;36m<module>\u001b[0;34m\u001b[0m\n\u001b[1;32m      2\u001b[0m \u001b[0;34m\u001b[0m\u001b[0m\n\u001b[1;32m      3\u001b[0m \u001b[0mp_values\u001b[0m \u001b[0;34m=\u001b[0m \u001b[0mget_p_values\u001b[0m\u001b[0;34m(\u001b[0m\u001b[0mresponse_vector\u001b[0m\u001b[0;34m)\u001b[0m\u001b[0;34m\u001b[0m\u001b[0;34m\u001b[0m\u001b[0m\n\u001b[0;32m----> 4\u001b[0;31m \u001b[0mpoint_biserial\u001b[0m\u001b[0;34m,\u001b[0m \u001b[0mbiserial\u001b[0m \u001b[0;34m=\u001b[0m \u001b[0mdiscrimination_index\u001b[0m\u001b[0;34m(\u001b[0m\u001b[0mresponse_vector\u001b[0m\u001b[0;34m)\u001b[0m\u001b[0;34m\u001b[0m\u001b[0;34m\u001b[0m\u001b[0m\n\u001b[0m\u001b[1;32m      5\u001b[0m \u001b[0mreliability_wo_item\u001b[0m \u001b[0;34m=\u001b[0m \u001b[0malpha_without_item\u001b[0m\u001b[0;34m(\u001b[0m\u001b[0mresponse_vector\u001b[0m\u001b[0;34m)\u001b[0m\u001b[0;34m\u001b[0m\u001b[0;34m\u001b[0m\u001b[0m\n\u001b[1;32m      6\u001b[0m \u001b[0;34m\u001b[0m\u001b[0m\n",
      "\u001b[0;32m~/PycharmProjects/psychometric/psychometrics/item_analysis.py\u001b[0m in \u001b[0;36mdiscrimination_index\u001b[0;34m(items)\u001b[0m\n\u001b[1;32m     56\u001b[0m     \u001b[0;32mfor\u001b[0m \u001b[0mitem\u001b[0m \u001b[0;32min\u001b[0m \u001b[0mitems\u001b[0m\u001b[0;34m.\u001b[0m\u001b[0mcolumns\u001b[0m\u001b[0;34m:\u001b[0m\u001b[0;34m\u001b[0m\u001b[0;34m\u001b[0m\u001b[0m\n\u001b[1;32m     57\u001b[0m         \u001b[0mtotal_deitemed\u001b[0m \u001b[0;34m=\u001b[0m \u001b[0mexaminee_score\u001b[0m\u001b[0;34m(\u001b[0m\u001b[0mitems\u001b[0m\u001b[0;34m)\u001b[0m \u001b[0;34m-\u001b[0m \u001b[0mitems\u001b[0m\u001b[0;34m[\u001b[0m\u001b[0mitem\u001b[0m\u001b[0;34m]\u001b[0m\u001b[0;34m\u001b[0m\u001b[0;34m\u001b[0m\u001b[0m\n\u001b[0;32m---> 58\u001b[0;31m         \u001b[0mstat_without_item\u001b[0m\u001b[0;34m.\u001b[0m\u001b[0mix\u001b[0m\u001b[0;34m[\u001b[0m\u001b[0mitem\u001b[0m\u001b[0;34m]\u001b[0m \u001b[0;34m=\u001b[0m \u001b[0mitems\u001b[0m\u001b[0;34m[\u001b[0m\u001b[0mitem\u001b[0m\u001b[0;34m]\u001b[0m\u001b[0;34m.\u001b[0m\u001b[0mcorr\u001b[0m\u001b[0;34m(\u001b[0m\u001b[0mtotal_deitemed\u001b[0m\u001b[0;34m)\u001b[0m\u001b[0;34m\u001b[0m\u001b[0;34m\u001b[0m\u001b[0m\n\u001b[0m\u001b[1;32m     59\u001b[0m \u001b[0;34m\u001b[0m\u001b[0m\n\u001b[1;32m     60\u001b[0m     \u001b[0mstat_with_item\u001b[0m \u001b[0;34m=\u001b[0m \u001b[0mpd\u001b[0m\u001b[0;34m.\u001b[0m\u001b[0mSeries\u001b[0m\u001b[0;34m(\u001b[0m\u001b[0mindex\u001b[0m\u001b[0;34m=\u001b[0m\u001b[0mitems\u001b[0m\u001b[0;34m.\u001b[0m\u001b[0mcolumns\u001b[0m\u001b[0;34m,\u001b[0m \u001b[0mname\u001b[0m\u001b[0;34m=\u001b[0m\u001b[0;34m'Biserial'\u001b[0m\u001b[0;34m)\u001b[0m\u001b[0;34m\u001b[0m\u001b[0;34m\u001b[0m\u001b[0m\n",
      "\u001b[0;32m~/python_venv/psychometric/lib/python3.6/site-packages/pandas/core/generic.py\u001b[0m in \u001b[0;36m__getattr__\u001b[0;34m(self, name)\u001b[0m\n\u001b[1;32m   5272\u001b[0m             \u001b[0;32mif\u001b[0m \u001b[0mself\u001b[0m\u001b[0;34m.\u001b[0m\u001b[0m_info_axis\u001b[0m\u001b[0;34m.\u001b[0m\u001b[0m_can_hold_identifiers_and_holds_name\u001b[0m\u001b[0;34m(\u001b[0m\u001b[0mname\u001b[0m\u001b[0;34m)\u001b[0m\u001b[0;34m:\u001b[0m\u001b[0;34m\u001b[0m\u001b[0;34m\u001b[0m\u001b[0m\n\u001b[1;32m   5273\u001b[0m                 \u001b[0;32mreturn\u001b[0m \u001b[0mself\u001b[0m\u001b[0;34m[\u001b[0m\u001b[0mname\u001b[0m\u001b[0;34m]\u001b[0m\u001b[0;34m\u001b[0m\u001b[0;34m\u001b[0m\u001b[0m\n\u001b[0;32m-> 5274\u001b[0;31m             \u001b[0;32mreturn\u001b[0m \u001b[0mobject\u001b[0m\u001b[0;34m.\u001b[0m\u001b[0m__getattribute__\u001b[0m\u001b[0;34m(\u001b[0m\u001b[0mself\u001b[0m\u001b[0;34m,\u001b[0m \u001b[0mname\u001b[0m\u001b[0;34m)\u001b[0m\u001b[0;34m\u001b[0m\u001b[0;34m\u001b[0m\u001b[0m\n\u001b[0m\u001b[1;32m   5275\u001b[0m \u001b[0;34m\u001b[0m\u001b[0m\n\u001b[1;32m   5276\u001b[0m     \u001b[0;32mdef\u001b[0m \u001b[0m__setattr__\u001b[0m\u001b[0;34m(\u001b[0m\u001b[0mself\u001b[0m\u001b[0;34m,\u001b[0m \u001b[0mname\u001b[0m\u001b[0;34m:\u001b[0m \u001b[0mstr\u001b[0m\u001b[0;34m,\u001b[0m \u001b[0mvalue\u001b[0m\u001b[0;34m)\u001b[0m \u001b[0;34m->\u001b[0m \u001b[0;32mNone\u001b[0m\u001b[0;34m:\u001b[0m\u001b[0;34m\u001b[0m\u001b[0;34m\u001b[0m\u001b[0m\n",
      "\u001b[0;31mAttributeError\u001b[0m: 'Series' object has no attribute 'ix'"
     ],
     "ename": "AttributeError",
     "evalue": "'Series' object has no attribute 'ix'",
     "output_type": "error"
    }
   ],
   "source": [
    "from psychometrics.item_analysis import get_p_values, discrimination_index, alpha_without_item\n",
    "\n",
    "p_values = get_p_values(response_vector)\n",
    "point_biserial, biserial = discrimination_index(response_vector)\n",
    "reliability_wo_item = alpha_without_item(response_vector)\n",
    "\n",
    "print(\"P Values\")\n",
    "print(p_values.head(5))\n",
    "\n",
    "print(\"point biserial\")\n",
    "print(biserial.head(5))\n",
    "\n",
    "print(\"biserial\")\n",
    "print(point_biserial.head(5))\n",
    "\n",
    "print('alpha without item')\n",
    "print(reliability_wo_item.head())\n"
   ],
   "metadata": {
    "collapsed": false,
    "pycharm": {
     "name": "#%%\n",
     "is_executing": false
    }
   }
  },
  {
   "cell_type": "markdown",
   "source": [
    "A look at Reliability\n",
    "\n",
    "Alpha\n",
    "split half\n",
    "Standard error of measurement\n"
   ],
   "metadata": {
    "collapsed": false
   }
  },
  {
   "cell_type": "code",
   "execution_count": null,
   "outputs": [],
   "source": [
    "from psychometrics.reliability import calculate_alpha,calculate_split_half, calculate_sem\n",
    "print(response_vector)\n",
    "alpha = calculate_alpha(response_vector)\n",
    "split_half = calculate_split_half(response_vector)\n",
    "sem = calculate_sem(response_vector)\n",
    "print(\"Alpha is \", alpha)\n",
    "print(\"Split half is \", split_half) #todo: Fix this!\n",
    "print('The SEM is: ', sem)"
   ],
   "metadata": {
    "collapsed": false,
    "pycharm": {
     "name": "#%%\n",
     "is_executing": false
    }
   }
  },
  {
   "cell_type": "markdown",
   "source": [
    "Lets grab some basic test information!"
   ],
   "metadata": {
    "collapsed": false
   }
  },
  {
   "cell_type": "code",
   "execution_count": null,
   "outputs": [],
   "source": [
    "from psychometrics.test_info import test_descriptives\n",
    "\n",
    "descriptives_dict = test_descriptives(response_vector)\n",
    "\n",
    "print(descriptives_dict)\n",
    "\n"
   ],
   "metadata": {
    "collapsed": false,
    "pycharm": {
     "name": "#%%\n",
     "is_executing": false
    }
   }
  },
  {
   "cell_type": "markdown",
   "source": [
    "Lets try out some IRT. We currently only have the 2pl model working.\n"
   ],
   "metadata": {
    "collapsed": false
   }
  },
  {
   "cell_type": "code",
   "execution_count": null,
   "outputs": [],
   "source": [
    "from psy import Irt\n",
    "import time\n",
    "items = simulate_items()\n",
    "people = simulate_people(10000, {'mean': 0, 'sd': 1})\n",
    "prob_vector, response_vector = item_vectors(items, people)\n",
    "\n",
    "model = Irt(scores=response_vector.values, link='logit', params_type='2PL')\n",
    "res = model.fit()\n",
    "print(res)\n",
    "\n",
    "print(\"Compare these values to the simulated values:\")\n",
    "\n",
    "print(items)\n"
   ],
   "metadata": {
    "collapsed": false,
    "pycharm": {
     "name": "#%%\n",
     "is_executing": false
    }
   }
  },
  {
   "cell_type": "markdown",
   "source": [
    "And some Graphics. lets graph the first item."
   ],
   "metadata": {
    "collapsed": false
   }
  },
  {
   "cell_type": "code",
   "execution_count": null,
   "outputs": [],
   "source": [
    "from psychometrics.IRT import plot_irt\n",
    "\n",
    "plot_irt(1,discrimination=2, guessing=.25)\n",
    "\n"
   ],
   "metadata": {
    "collapsed": false,
    "pycharm": {
     "name": "#%%\n",
     "is_executing": false
    }
   }
  },
  {
   "cell_type": "markdown",
   "source": [
    "Lets move to standard setting. Lets look at the Angoff, Contrasting groups and IIT methods\n"
   ],
   "metadata": {
    "collapsed": false
   }
  },
  {
   "cell_type": "code",
   "execution_count": null,
   "outputs": [],
   "source": [
    "import pandas as pd\n",
    "import seaborn as sns; sns.set()\n",
    "import matplotlib.pyplot as plt\n",
    "from psychometrics.standard_setting import angoff_rating, contrasting_groups, iit\n",
    "\n",
    "df = pd.read_csv('/home/cfoster/Documents/angoff_ratings.csv')\n",
    "print(df)\n",
    "print(angoff_rating(df))\n",
    "\n",
    "df = pd.read_csv('/home/cfoster/Documents/iit.csv')\n",
    "iit(df)\n",
    "# \n",
    "df = pd.read_csv('/home/cfoster/Documents/contrasting_groups.csv')\n",
    "contrasting_groups(df, score_column='scorsies')\n",
    "plt.show()"
   ],
   "metadata": {
    "collapsed": false,
    "pycharm": {
     "name": "#%%\n",
     "is_executing": false
    }
   }
  },
  {
   "cell_type": "markdown",
   "source": [
    "Differential Item Functioning\n",
    "\n",
    "Currently we only have the Mantel-Hanzel approach and Logistic Regression."
   ],
   "metadata": {
    "collapsed": false
   }
  },
  {
   "cell_type": "code",
   "execution_count": null,
   "outputs": [],
   "source": [
    "from psychometrics.fairness import mantel_hanzel_dif, logistic_regression_dif\n",
    "df = pd.read_csv('/home/cfoster/Documents/dif_CTT.csv')\n",
    "result = mantel_hanzel_dif(df)\n",
    "print(result)\n",
    "result2 = logistic_regression_dif(df)\n",
    "print(result2)"
   ],
   "metadata": {
    "collapsed": false,
    "pycharm": {
     "name": "#%%\n",
     "is_executing": false
    }
   }
  },
  {
   "cell_type": "markdown",
   "source": [
    "Here we are going to show off some fuzzy matching"
   ],
   "metadata": {
    "collapsed": false
   }
  },
  {
   "cell_type": "code",
   "execution_count": null,
   "outputs": [],
   "source": [
    "from psychometrics.nlp import short_answer_match\n",
    "ratio = short_answer_match(\"Sarah saw batman\", \"Delphine saw batman\")\n",
    "ratio\n"
   ],
   "metadata": {
    "collapsed": false,
    "pycharm": {
     "name": "#%%\n",
     "is_executing": false
    }
   }
  },
  {
   "cell_type": "markdown",
   "source": [
    "Here is test form creation\n"
   ],
   "metadata": {
    "collapsed": false
   }
  },
  {
   "cell_type": "code",
   "execution_count": null,
   "outputs": [],
   "source": [
    "from psychometrics.test_development import test_coverage, build_parallel_forms\n",
    "import pandas as pd\n",
    "blueprint = {'a': 2,\n",
    "             'b': 3,\n",
    "             'c': 2}\n",
    "\n",
    "\n",
    "actual = {'a': 3,\n",
    "             'b': 2,\n",
    "             'c': 2}\n",
    "\n",
    "percentage = test_coverage(blueprint, actual)\n",
    "print(percentage)\n",
    "\n",
    "blueprint = {'a': 2,\n",
    "             'b': 3,\n",
    "             'c': 2,\n",
    "             'd': 2,\n",
    "             'e': 3,\n",
    "             'f': 2,\n",
    "             'g': 2,\n",
    "             'h': 3,\n",
    "             'j': 2,\n",
    "             'k': 2}\n",
    "\n",
    "items = pd.read_csv('/home/cfoster/Documents/form_separation.csv')\n",
    "items1 = items.to_dict(orient='records')\n",
    "forms = build_parallel_forms(blueprint=blueprint, items=items1,forms_to_build=2)\n",
    "print(forms)\n"
   ],
   "metadata": {
    "collapsed": false,
    "pycharm": {
     "name": "#%%\n",
     "is_executing": false
    }
   }
  },
  {
   "cell_type": "markdown",
   "source": [
    "Here we will take a look at some additional item metrics\n",
    "Latency and distractor analysis\n"
   ],
   "metadata": {
    "collapsed": false
   }
  },
  {
   "cell_type": "code",
   "execution_count": null,
   "outputs": [],
   "source": [
    "from psychometrics.item_analysis import latency_analysis, distractor_analysis\n",
    "df = pd.read_csv('/home/cfoster/PycharmProjects/psychometric/data/distractor_analysis.csv')\n",
    "\n",
    "returned = latency_analysis(df)\n",
    "print(returned)\n",
    "\n",
    "distractors = distractor_analysis(data=df, distractor_correct='distractor_correct', total_score='total_score')\n",
    "print(distractors)\n"
   ],
   "metadata": {
    "collapsed": false,
    "pycharm": {
     "name": "#%%\n",
     "is_executing": false
    }
   }
  },
  {
   "cell_type": "markdown",
   "source": [
    "IRT information"
   ],
   "metadata": {
    "collapsed": false
   }
  },
  {
   "cell_type": "code",
   "execution_count": null,
   "outputs": [],
   "source": [
    "from psychometrics.adaptive_test import _2pl_information\n",
    "info_df = _2pl_information(1, -1)\n",
    "df = pd.DataFrame(info_df)\n",
    "\n",
    "ax = sns.lineplot(x=\"quad\", y=\"information\", data=df)\n",
    "plt.show()\n"
   ],
   "metadata": {
    "collapsed": false,
    "pycharm": {
     "name": "#%%\n",
     "is_executing": false
    }
   }
  },
  {
   "cell_type": "markdown",
   "source": [
    "Adaptive Test"
   ],
   "metadata": {
    "collapsed": false,
    "pycharm": {
     "name": "#%% md\n"
    }
   }
  },
  {
   "cell_type": "code",
   "execution_count": null,
   "outputs": [],
   "source": [
    "from psychometrics.adaptive_test import multistage_adaptive \n",
    "df = pd.read_csv('/home/cfoster/PycharmProjects/psychometric/data/multistage_setup.csv')\n",
    "print(df)\n",
    "next_stage, next_level = multistage_adaptive(stage=1, level=1, items=df, results=[0,1,1])\n",
    "\n",
    "item_list = [{\n",
    "    'a':.5,\n",
    "    'b':1.5,\n",
    "    'c':.25\n",
    "}, {\n",
    "    'a':1,\n",
    "    'b':0,\n",
    "    'c':.2\n",
    "}, {\n",
    "    'a':1.5,\n",
    "    'b':-1,\n",
    "    'c':.25\n",
    "}]\n",
    "\n",
    "print(next_stage, next_level)\n"
   ],
   "metadata": {
    "collapsed": false,
    "pycharm": {
     "name": "#%%\n",
     "is_executing": false
    }
   }
  },
  {
   "cell_type": "markdown",
   "source": [
    "adaptive_test (not multistage)"
   ],
   "metadata": {
    "collapsed": false,
    "pycharm": {
     "name": "#%% md\n"
    }
   }
  },
  {
   "cell_type": "code",
   "execution_count": null,
   "outputs": [],
   "source": [
    "from psychometrics.adaptive_test import select_next_item, L\n",
    "import numpy as np\n",
    "import pandas as pd\n",
    "\n",
    "items = pd.read_csv('/home/cfoster/PycharmProjects/psychometric/data/item_params.csv')\n",
    "max_prob, theta_estimate = L(np.array([ 1, 1, 1, 1, 0]), np.array([.5, .6, .7, .8, .9]),\n",
    "                             np.array([-3, -2, 0, 2, 3]))\n",
    "\n",
    "\n",
    "items, next_item = select_next_item(items, theta=theta_estimate, model='1PL')\n",
    "print(items)\n",
    "print(theta_estimate, next_item)\n",
    "\n",
    "\n",
    "\n",
    "\n"
   ],
   "metadata": {
    "collapsed": false,
    "pycharm": {
     "name": "#%%\n",
     "is_executing": false
    }
   }
  }
 ],
 "metadata": {
  "kernelspec": {
   "display_name": "Python 3",
   "language": "python",
   "name": "python3"
  },
  "language_info": {
   "codemirror_mode": {
    "name": "ipython",
    "version": 2
   },
   "file_extension": ".py",
   "mimetype": "text/x-python",
   "name": "python",
   "nbconvert_exporter": "python",
   "pygments_lexer": "ipython2",
   "version": "2.7.6"
  },
  "pycharm": {
   "stem_cell": {
    "cell_type": "raw",
    "source": [],
    "metadata": {
     "collapsed": false
    }
   }
  }
 },
 "nbformat": 4,
 "nbformat_minor": 0
}